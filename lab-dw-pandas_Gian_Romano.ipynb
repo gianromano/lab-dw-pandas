{
 "cells": [
  {
   "cell_type": "markdown",
   "id": "25d7736c-ba17-4aff-b6bb-66eba20fbf4e",
   "metadata": {},
   "source": [
    "# Lab | Pandas"
   ]
  },
  {
   "cell_type": "markdown",
   "id": "d1973e9e-8be6-4039-b70e-d73ee0d94c99",
   "metadata": {},
   "source": [
    "In this lab, we will be working with the customer data from an insurance company, which can be found in the CSV file located at the following link: https://raw.githubusercontent.com/data-bootcamp-v4/data/main/file1.csv\n",
    "\n",
    "The data includes information such as customer ID, state, gender, education, income, and other variables that can be used to perform various analyses.\n",
    "\n",
    "Throughout the lab, we will be using the pandas library in Python to manipulate and analyze the data. Pandas is a powerful library that provides various data manipulation and analysis tools, including the ability to load and manipulate data from a variety of sources, including CSV files."
   ]
  },
  {
   "cell_type": "markdown",
   "id": "8045146f-f4f7-44d9-8cd9-130d6400c73a",
   "metadata": {},
   "source": [
    "### Data Description\n",
    "\n",
    "- Customer - Customer ID\n",
    "\n",
    "- ST - State where customers live\n",
    "\n",
    "- Gender - Gender of the customer\n",
    "\n",
    "- Education - Background education of customers \n",
    "\n",
    "- Customer Lifetime Value - Customer lifetime value(CLV) is the total revenue the client will derive from their entire relationship with a customer. In other words, is the predicted or calculated value of a customer over their entire duration as a policyholder with the insurance company. It is an estimation of the net profit that the insurance company expects to generate from a customer throughout their relationship with the company. Customer Lifetime Value takes into account factors such as the duration of the customer's policy, premium payments, claim history, renewal likelihood, and potential additional services or products the customer may purchase. It helps insurers assess the long-term profitability and value associated with retaining a particular customer.\n",
    "\n",
    "- Income - Customers income\n",
    "\n",
    "- Monthly Premium Auto - Amount of money the customer pays on a monthly basis as a premium for their auto insurance coverage. It represents the recurring cost that the insured person must pay to maintain their insurance policy and receive coverage for potential damages, accidents, or other covered events related to their vehicle.\n",
    "\n",
    "- Number of Open Complaints - Number of complaints the customer opened\n",
    "\n",
    "- Policy Type - There are three type of policies in car insurance (Corporate Auto, Personal Auto, and Special Auto)\n",
    "\n",
    "- Vehicle Class - Type of vehicle classes that customers have Two-Door Car, Four-Door Car SUV, Luxury SUV, Sports Car, and Luxury Car\n",
    "\n",
    "- Total Claim Amount - the sum of all claims made by the customer. It represents the total monetary value of all approved claims for incidents such as accidents, theft, vandalism, or other covered events.\n"
   ]
  },
  {
   "cell_type": "markdown",
   "id": "3a72419b-20fc-4905-817a-8c83abc59de6",
   "metadata": {},
   "source": [
    "External Resources: https://towardsdatascience.com/filtering-data-frames-in-pandas-b570b1f834b9"
   ]
  },
  {
   "cell_type": "markdown",
   "id": "8f8ece17-e919-4e23-96c0-c7c59778436a",
   "metadata": {},
   "source": [
    "## Challenge 1: Understanding the data\n",
    "\n",
    "In this challenge, you will use pandas to explore a given dataset. Your task is to gain a deep understanding of the data by analyzing its characteristics, dimensions, and statistical properties."
   ]
  },
  {
   "cell_type": "markdown",
   "id": "91437bd5-59a6-49c0-8150-ef0e6e6eb253",
   "metadata": {},
   "source": [
    "- Identify the dimensions of the dataset by determining the number of rows and columns it contains.\n",
    "- Determine the data types of each column and evaluate whether they are appropriate for the nature of the variable. You should also provide suggestions for fixing any incorrect data types.\n",
    "- Identify the number of unique values for each column and determine which columns appear to be categorical. You should also describe the unique values of each categorical column and the range of values for numerical columns, and give your insights.\n",
    "- Compute summary statistics such as mean, median, mode, standard deviation, and quartiles to understand the central tendency and distribution of the data for numerical columns. You should also provide your conclusions based on these summary statistics.\n",
    "- Compute summary statistics for categorical columns and providing your conclusions based on these statistics."
   ]
  },
  {
   "cell_type": "markdown",
   "id": "c46444e5-bbb1-4ea7-ba5e-458f2ab7b9b4",
   "metadata": {},
   "source": [
    "#### My solutions for Challenge 1: Understanding the data"
   ]
  },
  {
   "cell_type": "code",
   "execution_count": 4,
   "id": "dd4e8cd8-a6f6-486c-a5c4-1745b0c035f4",
   "metadata": {},
   "outputs": [
    {
     "name": "stdout",
     "output_type": "stream",
     "text": [
      "Este dataset tiene 1071 filas y 11 columnas\n"
     ]
    }
   ],
   "source": [
    "# Identify the dimensions of the dataset by determining the number of rows and columns it contains.\n",
    "import pandas as pd\n",
    "\n",
    "df = pd.read_csv(r'C:/Users/user/Jupyter/IronHack/Work - Python/Week2/Day1/file1.csv')\n",
    "num_rows, num_cols = df.shape\n",
    "print(f\"Este dataset tiene {num_rows} filas y {num_cols} columnas\")"
   ]
  },
  {
   "cell_type": "code",
   "execution_count": 5,
   "id": "a747a275-841d-42f0-9cf0-eddb272c5cea",
   "metadata": {},
   "outputs": [
    {
     "name": "stdout",
     "output_type": "stream",
     "text": [
      "<class 'pandas.core.frame.DataFrame'>\n",
      "RangeIndex: 1071 entries, 0 to 1070\n",
      "Data columns (total 11 columns):\n",
      " #   Column                     Non-Null Count  Dtype   \n",
      "---  ------                     --------------  -----   \n",
      " 0   Customer                   1071 non-null   object  \n",
      " 1   ST                         1071 non-null   category\n",
      " 2   GENDER                     954 non-null    category\n",
      " 3   Education                  1071 non-null   category\n",
      " 4   Customer Lifetime Value    1068 non-null   object  \n",
      " 5   Income                     1071 non-null   int64   \n",
      " 6   Monthly Premium Auto       1071 non-null   float64 \n",
      " 7   Number of Open Complaints  1071 non-null   object  \n",
      " 8   Policy Type                1071 non-null   category\n",
      " 9   Vehicle Class              1071 non-null   category\n",
      " 10  Total Claim Amount         1071 non-null   float64 \n",
      "dtypes: category(5), float64(2), int64(1), object(3)\n",
      "memory usage: 56.7+ KB\n"
     ]
    }
   ],
   "source": [
    "# Determine the data types of each column and evaluate whether they are appropriate for the nature of the variable. \n",
    "# You should also provide suggestions for fixing any incorrect data types.\n",
    "\n",
    "df['ST'] = df['ST'].astype('category')\n",
    "df['GENDER'] = df['GENDER'].astype('category')\n",
    "df['Education'] = df['Education'].astype('category')\n",
    "df['Policy Type'] = df['Policy Type'].astype('category')\n",
    "df['Vehicle Class'] = df['Vehicle Class'].astype('category')\n",
    "df.info()\n"
   ]
  },
  {
   "cell_type": "markdown",
   "id": "5ec939db-c63e-4347-a7fe-4ac8d58f7d95",
   "metadata": {},
   "source": [
    "Clean the values for ST is required"
   ]
  },
  {
   "cell_type": "code",
   "execution_count": 14,
   "id": "ec843812-4f2c-4685-b3e2-1b4920cca679",
   "metadata": {},
   "outputs": [],
   "source": [
    "# Define a mapping dictionary for replacements\n",
    "state_mapping = {\n",
    "    'AZ' : 'Arizona',  # Replace 'AZ' with 'Arizona'\n",
    "    'Cali': 'California',  # Replace 'Cali' with 'California'\n",
    "    'WA' : 'Washington',  # Replace 'AZ' with 'Arizona'\n",
    "}\n",
    "\n",
    "# Replace values in the 'ST' column using the mapping dictionary\n",
    "df['ST'] = df['ST'].replace(state_mapping)"
   ]
  },
  {
   "cell_type": "code",
   "execution_count": 15,
   "id": "66bf79bd-5312-4174-a840-2441a80df843",
   "metadata": {},
   "outputs": [
    {
     "data": {
      "text/plain": [
       "ST        \n",
       "California    331\n",
       "Oregon        320\n",
       "Arizona       211\n",
       "Washington    111\n",
       "Nevada         98\n",
       "Name: count, dtype: int64"
      ]
     },
     "execution_count": 15,
     "metadata": {},
     "output_type": "execute_result"
    }
   ],
   "source": [
    "df[[\"ST\"]].value_counts() # Apllying mapping changes"
   ]
  },
  {
   "cell_type": "markdown",
   "id": "19448379-8b0a-4cf7-abe0-0265fec77df3",
   "metadata": {},
   "source": [
    "Clean the values for GENDER is required"
   ]
  },
  {
   "cell_type": "code",
   "execution_count": 90,
   "id": "b5f9c0c3-2e8c-43c8-b810-25204d69b6f2",
   "metadata": {},
   "outputs": [],
   "source": [
    "# Define a mapping dictionary for replacements\n",
    "state_mapping = {\n",
    "    'Male' : 'M',  # Replace 'Male' with 'M'\n",
    "    'female': 'F',  # Replace 'female' with 'F'\n",
    "    'Femal' : 'F',  # Replace 'Femal' with 'F'\n",
    "}\n",
    "\n",
    "# Replace values in the 'ST' column using the mapping dictionary\n",
    "df['GENDER'] = df['GENDER'].replace(state_mapping)"
   ]
  },
  {
   "cell_type": "code",
   "execution_count": 91,
   "id": "e2f0d072-8f8d-4bfa-b7c2-c682413e3e15",
   "metadata": {},
   "outputs": [
    {
     "data": {
      "text/plain": [
       "GENDER\n",
       "F         502\n",
       "M         452\n",
       "Name: count, dtype: int64"
      ]
     },
     "execution_count": 91,
     "metadata": {},
     "output_type": "execute_result"
    }
   ],
   "source": [
    "df[[\"GENDER\"]].value_counts() # Apllying mapping changes"
   ]
  },
  {
   "cell_type": "code",
   "execution_count": 92,
   "id": "5f90353c-3312-4148-983a-6160eb23c91f",
   "metadata": {},
   "outputs": [
    {
     "data": {
      "text/plain": [
       "Customer                     1071\n",
       "ST                              5\n",
       "GENDER                          2\n",
       "Education                       6\n",
       "Customer Lifetime Value      1027\n",
       "Income                        774\n",
       "Monthly Premium Auto          132\n",
       "Number of Open Complaints       6\n",
       "Policy Type                     3\n",
       "Vehicle Class                   6\n",
       "Total Claim Amount            761\n",
       "dtype: int64"
      ]
     },
     "execution_count": 92,
     "metadata": {},
     "output_type": "execute_result"
    }
   ],
   "source": [
    "# Identify the number of unique values for each column. \n",
    "df.nunique()"
   ]
  },
  {
   "cell_type": "markdown",
   "id": "79ba46a1-a78c-4880-96d8-fbbd574c60be",
   "metadata": {},
   "source": [
    "##### Columns that appear to be categorical:\n"
   ]
  },
  {
   "cell_type": "code",
   "execution_count": 82,
   "id": "b17365d0-9502-4ca4-8eb9-3ca08b554ffe",
   "metadata": {},
   "outputs": [],
   "source": [
    "categorical_columns = ['ST','GENDER','Education','Policy Type','Vehicle Class']"
   ]
  },
  {
   "cell_type": "code",
   "execution_count": 102,
   "id": "1c4323ab-1ef9-40c8-b9e8-f60d7746a818",
   "metadata": {},
   "outputs": [
    {
     "data": {
      "text/plain": [
       "ST          GENDER  Education             Policy Type     Vehicle Class\n",
       "California  M       Bachelor              Personal Auto   Four-Door Car    23\n",
       "                    College               Personal Auto   Four-Door Car    21\n",
       "            F       High School or Below  Personal Auto   Four-Door Car    19\n",
       "Oregon      F       High School or Below  Personal Auto   Four-Door Car    18\n",
       "Arizona     F       High School or Below  Personal Auto   Four-Door Car    18\n",
       "                                                                           ..\n",
       "Nevada      F       College               Special Auto    Sports Car        1\n",
       "                    High School or Below  Corporate Auto  Four-Door Car     1\n",
       "                                                          Two-Door Car      1\n",
       "Arizona     F       Bachelor              Corporate Auto  SUV               1\n",
       "Washington  M       Master                Personal Auto   Two-Door Car      1\n",
       "Name: count, Length: 310, dtype: int64"
      ]
     },
     "execution_count": 102,
     "metadata": {},
     "output_type": "execute_result"
    }
   ],
   "source": [
    "# You should also describe the unique values of each categorical column and the range of values for numerical columns\n",
    "df[categorical_columns].value_counts()"
   ]
  },
  {
   "cell_type": "code",
   "execution_count": 95,
   "id": "7fb7c7e8-0ab4-4b4a-9873-ef614dbe0304",
   "metadata": {},
   "outputs": [
    {
     "data": {
      "text/html": [
       "<div>\n",
       "<style scoped>\n",
       "    .dataframe tbody tr th:only-of-type {\n",
       "        vertical-align: middle;\n",
       "    }\n",
       "\n",
       "    .dataframe tbody tr th {\n",
       "        vertical-align: top;\n",
       "    }\n",
       "\n",
       "    .dataframe thead th {\n",
       "        text-align: right;\n",
       "    }\n",
       "</style>\n",
       "<table border=\"1\" class=\"dataframe\">\n",
       "  <thead>\n",
       "    <tr style=\"text-align: right;\">\n",
       "      <th></th>\n",
       "      <th>Income</th>\n",
       "      <th>Monthly Premium Auto</th>\n",
       "      <th>Total Claim Amount</th>\n",
       "    </tr>\n",
       "  </thead>\n",
       "  <tbody>\n",
       "    <tr>\n",
       "      <th>count</th>\n",
       "      <td>1071.000000</td>\n",
       "      <td>1071.000000</td>\n",
       "      <td>1071.000000</td>\n",
       "    </tr>\n",
       "    <tr>\n",
       "      <th>mean</th>\n",
       "      <td>39295.701214</td>\n",
       "      <td>193.234360</td>\n",
       "      <td>404.986909</td>\n",
       "    </tr>\n",
       "    <tr>\n",
       "      <th>std</th>\n",
       "      <td>30469.427060</td>\n",
       "      <td>1601.190369</td>\n",
       "      <td>293.027260</td>\n",
       "    </tr>\n",
       "    <tr>\n",
       "      <th>min</th>\n",
       "      <td>0.000000</td>\n",
       "      <td>61.000000</td>\n",
       "      <td>0.382107</td>\n",
       "    </tr>\n",
       "    <tr>\n",
       "      <th>25%</th>\n",
       "      <td>14072.000000</td>\n",
       "      <td>68.000000</td>\n",
       "      <td>202.157702</td>\n",
       "    </tr>\n",
       "    <tr>\n",
       "      <th>50%</th>\n",
       "      <td>36234.000000</td>\n",
       "      <td>83.000000</td>\n",
       "      <td>354.729129</td>\n",
       "    </tr>\n",
       "    <tr>\n",
       "      <th>75%</th>\n",
       "      <td>64631.000000</td>\n",
       "      <td>109.500000</td>\n",
       "      <td>532.800000</td>\n",
       "    </tr>\n",
       "    <tr>\n",
       "      <th>max</th>\n",
       "      <td>99960.000000</td>\n",
       "      <td>35354.000000</td>\n",
       "      <td>2893.239678</td>\n",
       "    </tr>\n",
       "  </tbody>\n",
       "</table>\n",
       "</div>"
      ],
      "text/plain": [
       "             Income  Monthly Premium Auto  Total Claim Amount\n",
       "count   1071.000000           1071.000000         1071.000000\n",
       "mean   39295.701214            193.234360          404.986909\n",
       "std    30469.427060           1601.190369          293.027260\n",
       "min        0.000000             61.000000            0.382107\n",
       "25%    14072.000000             68.000000          202.157702\n",
       "50%    36234.000000             83.000000          354.729129\n",
       "75%    64631.000000            109.500000          532.800000\n",
       "max    99960.000000          35354.000000         2893.239678"
      ]
     },
     "execution_count": 95,
     "metadata": {},
     "output_type": "execute_result"
    }
   ],
   "source": [
    "# Compute summary statistics: mean, median, mode, st dev, and quartiles for numerical columns.\n",
    "df.describe()"
   ]
  },
  {
   "cell_type": "markdown",
   "id": "0cadb680-f3af-4cf4-95aa-06631c99e888",
   "metadata": {},
   "source": [
    "##### You should also provide your conclusions for NUMERICAL DATA based on these summary statistics."
   ]
  },
  {
   "cell_type": "markdown",
   "id": "989f590f-272e-456e-9acc-cd1f40804200",
   "metadata": {},
   "source": [
    "###### My insights for NUMERICAL DATA"
   ]
  },
  {
   "cell_type": "code",
   "execution_count": 106,
   "id": "3351a406-c30c-46a4-b956-2addf3a1d044",
   "metadata": {},
   "outputs": [
    {
     "data": {
      "text/html": [
       "<div>\n",
       "<style scoped>\n",
       "    .dataframe tbody tr th:only-of-type {\n",
       "        vertical-align: middle;\n",
       "    }\n",
       "\n",
       "    .dataframe tbody tr th {\n",
       "        vertical-align: top;\n",
       "    }\n",
       "\n",
       "    .dataframe thead th {\n",
       "        text-align: right;\n",
       "    }\n",
       "</style>\n",
       "<table border=\"1\" class=\"dataframe\">\n",
       "  <thead>\n",
       "    <tr style=\"text-align: right;\">\n",
       "      <th></th>\n",
       "      <th>ST</th>\n",
       "      <th>GENDER</th>\n",
       "      <th>Education</th>\n",
       "      <th>Policy Type</th>\n",
       "      <th>Vehicle Class</th>\n",
       "    </tr>\n",
       "  </thead>\n",
       "  <tbody>\n",
       "    <tr>\n",
       "      <th>count</th>\n",
       "      <td>1071</td>\n",
       "      <td>954</td>\n",
       "      <td>1071</td>\n",
       "      <td>1071</td>\n",
       "      <td>1071</td>\n",
       "    </tr>\n",
       "    <tr>\n",
       "      <th>unique</th>\n",
       "      <td>5</td>\n",
       "      <td>2</td>\n",
       "      <td>6</td>\n",
       "      <td>3</td>\n",
       "      <td>6</td>\n",
       "    </tr>\n",
       "    <tr>\n",
       "      <th>top</th>\n",
       "      <td>California</td>\n",
       "      <td>F</td>\n",
       "      <td>Bachelor</td>\n",
       "      <td>Personal Auto</td>\n",
       "      <td>Four-Door Car</td>\n",
       "    </tr>\n",
       "    <tr>\n",
       "      <th>freq</th>\n",
       "      <td>331</td>\n",
       "      <td>502</td>\n",
       "      <td>324</td>\n",
       "      <td>780</td>\n",
       "      <td>576</td>\n",
       "    </tr>\n",
       "  </tbody>\n",
       "</table>\n",
       "</div>"
      ],
      "text/plain": [
       "                ST GENDER Education    Policy Type  Vehicle Class\n",
       "count         1071    954      1071           1071           1071\n",
       "unique           5      2         6              3              6\n",
       "top     California      F  Bachelor  Personal Auto  Four-Door Car\n",
       "freq           331    502       324            780            576"
      ]
     },
     "execution_count": 106,
     "metadata": {},
     "output_type": "execute_result"
    }
   ],
   "source": [
    "# Compute summary statistics for categorical columns and providing your conclusions based on these statistics.\n",
    "df.describe(include=\"category\")"
   ]
  },
  {
   "cell_type": "markdown",
   "id": "a812f950-82a7-440d-a042-495406e6a48e",
   "metadata": {},
   "source": [
    "##### You should also provide your conclusions for CATEGORICAL COLUMNS based on these summary statistics."
   ]
  },
  {
   "cell_type": "markdown",
   "id": "40108fa0-b3b8-4201-9079-39a828f8df69",
   "metadata": {},
   "source": [
    "###### My insights for CATEGORICAL COLUMNS"
   ]
  },
  {
   "cell_type": "markdown",
   "id": "4a703890-63db-4944-b7ab-95a4f8185120",
   "metadata": {},
   "source": [
    "## Challenge 2: analyzing the data"
   ]
  },
  {
   "cell_type": "markdown",
   "id": "0776a403-c56a-452f-ac33-5fd4fdb06fc7",
   "metadata": {},
   "source": [
    "### Exercise 1"
   ]
  },
  {
   "cell_type": "markdown",
   "id": "eedbc484-da4d-4f9c-9343-e1d44311a87e",
   "metadata": {},
   "source": [
    "The marketing team wants to know the top 5 less common customer locations. Create a pandas Series object that contains the customer locations and their frequencies, and then retrieve the top 5 less common locations in ascending order."
   ]
  },
  {
   "cell_type": "markdown",
   "id": "6c46b32e-64b9-4fc8-b0bc-49701bdce4f7",
   "metadata": {},
   "source": [
    "#### My solutions for Challenge 2 - Exercise 1"
   ]
  },
  {
   "cell_type": "code",
   "execution_count": 21,
   "id": "2dca5073-4520-4f42-9390-4b92733284ed",
   "metadata": {},
   "outputs": [
    {
     "name": "stdout",
     "output_type": "stream",
     "text": [
      "Frequencies for location in ascending order\n",
      "ST\n",
      "Nevada         98\n",
      "Washington    111\n",
      "Arizona       211\n",
      "Oregon        320\n",
      "California    331\n",
      "Name: count, dtype: int64\n",
      "\n",
      "\n",
      "Top 5 least common locations (ascending order)\n",
      "ST\n",
      "Nevada         98\n",
      "Washington    111\n",
      "Arizona       211\n",
      "Oregon        320\n",
      "California    331\n",
      "Name: count, dtype: int64\n"
     ]
    }
   ],
   "source": [
    "# Your code here\n",
    "location_frequencies = df['ST'].value_counts()\n",
    "# Sort frequencies in ascending order (least common to most common)\n",
    "sorted_locations = location_frequencies.sort_values()\n",
    "\n",
    "# Retrieve top 5 least common locations (ascending order)\n",
    "top_5_least_common = sorted_locations.head(5)\n",
    "\n",
    "print(\"Frequencies for location in ascending order\")\n",
    "print(sorted_locations)\n",
    "print(\"\\n\")\n",
    "print(\"Top 5 least common locations (ascending order)\")\n",
    "print(top_5_least_common)"
   ]
  },
  {
   "cell_type": "markdown",
   "id": "0ce80f43-4afa-43c7-a78a-c917444da4e0",
   "metadata": {},
   "source": [
    "### Exercise 2\n",
    "\n",
    "The sales team wants to know the total number of policies sold for each type of policy. Create a pandas Series object that contains the policy types and their total number of policies sold, and then retrieve the policy type with the highest number of policies sold."
   ]
  },
  {
   "cell_type": "markdown",
   "id": "a9f13997-1555-4f98-aca6-970fda1d2c3f",
   "metadata": {},
   "source": [
    "*Hint:*\n",
    "- *Using value_counts() method simplifies this analysis.*\n",
    "- *Futhermore, there is a method that returns the index of the maximum value in a column or row.*\n"
   ]
  },
  {
   "cell_type": "markdown",
   "id": "a5716e7a-1166-4126-b890-909323f61df0",
   "metadata": {},
   "source": [
    "#### My solutions for Challenge 2 - Exercise 2"
   ]
  },
  {
   "cell_type": "code",
   "execution_count": 40,
   "id": "bcfad6c1-9af2-4b0b-9aa9-0dc5c17473c0",
   "metadata": {},
   "outputs": [
    {
     "name": "stdout",
     "output_type": "stream",
     "text": [
      "The highest type of policy sold is: Personal Auto\n"
     ]
    }
   ],
   "source": [
    "# Your code here\n",
    "policy_types = df[\"Policy Type\"].value_counts() # Apllying mapping changes\n",
    "most_sold_policy_type = policy_types.idxmax() # Retrieve the policy type with the highest number of policies sold\n",
    "print(f\"The highest type of policy sold is: {most_sold_policy_type}\")"
   ]
  },
  {
   "cell_type": "markdown",
   "id": "0b863fd3-bf91-4d5d-86eb-be29ed9f5b70",
   "metadata": {},
   "source": [
    "### Exercise 3\n",
    "\n",
    "The sales team wants to know if customers with Personal Auto have a lower income than those with Corporate Auto. How does the average income compare between the two policy types?"
   ]
  },
  {
   "cell_type": "markdown",
   "id": "b1386d75-2810-4aa1-93e0-9485aa12d552",
   "metadata": {},
   "source": [
    "- Use *loc* to create two dataframes: one containing only Personal Auto policies and one containing only Corporate Auto policies.\n",
    "- Calculate the average income for each policy.\n",
    "- Print the results."
   ]
  },
  {
   "cell_type": "markdown",
   "id": "99b5ad9d-3aaa-49c8-bbbc-a8195cf6f847",
   "metadata": {},
   "source": [
    "#### My solutions for Challenge 2 - Exercise 3"
   ]
  },
  {
   "cell_type": "code",
   "execution_count": 79,
   "id": "0c0563cf-6f8b-463d-a321-651a972f82e5",
   "metadata": {},
   "outputs": [
    {
     "name": "stdout",
     "output_type": "stream",
     "text": [
      "The mean income for Personal Auto Policy is: 38180.69871794872\n",
      "The mean income for Corporate Auto Policy is: 41390.31196581197\n"
     ]
    }
   ],
   "source": [
    "# Use loc to create two dataframes: one containing only Personal Auto policies and one containing only Corporate Auto policies.\n",
    "df_policy_income = df[['Policy Type','Income']]\n",
    "# Filter rows for Personal Auto policies\n",
    "personal_auto_df = df_policy_income.loc[df['Policy Type'] == 'Personal Auto']\n",
    "\n",
    "# Filter rows for Corporate Auto policies\n",
    "corporate_auto_df = df_policy_income.loc[df['Policy Type'] == 'Corporate Auto']\n",
    "\n",
    "# Calculate the average income for each policy\n",
    "personal_auto_mean = personal_auto_df[\"Income\"].mean()\n",
    "corporate_auto_mean = corporate_auto_df[\"Income\"].mean()\n",
    "\n",
    "# Print the results\n",
    "print(f\"The mean income for Personal Auto Policy is: {personal_auto_mean}\")\n",
    "print(f\"The mean income for Corporate Auto Policy is: {corporate_auto_mean}\")"
   ]
  },
  {
   "cell_type": "markdown",
   "id": "80b16c27-f4a5-4727-a229-1f88671cf4e2",
   "metadata": {},
   "source": [
    "### Bonus: Exercise 4\n"
   ]
  },
  {
   "cell_type": "markdown",
   "id": "ac584986-299b-475f-ac2e-928c16c3f512",
   "metadata": {},
   "source": [
    "Your goal is to identify customers with a high policy claim amount.\n",
    "\n",
    "Instructions:\n",
    "\n",
    "- Review again the statistics for total claim amount to gain an understanding of the data.\n",
    "- To identify potential areas for improving customer retention and profitability, we want to focus on customers with a high policy claim amount. Consider customers with a high policy claim amount to be those in the top 25% of the total claim amount. Create a pandas DataFrame object that contains information about customers with a policy claim amount greater than the 75th percentile.\n",
    "- Use DataFrame methods to calculate summary statistics about the high policy claim amount data. "
   ]
  },
  {
   "cell_type": "markdown",
   "id": "4e3af5f1-6023-4b05-9c01-d05392daa650",
   "metadata": {},
   "source": [
    "*Note: When analyzing data, we often want to focus on certain groups of values to gain insights. Percentiles are a useful tool to help us define these groups. A percentile is a measure that tells us what percentage of values in a dataset are below a certain value. For example, the 75th percentile represents the value below which 75% of the data falls. Similarly, the 25th percentile represents the value below which 25% of the data falls. When we talk about the top 25%, we are referring to the values that fall above the 75th percentile, which represent the top quarter of the data. On the other hand, when we talk about the bottom 25%, we are referring to the values that fall below the 25th percentile, which represent the bottom quarter of the data. By focusing on these groups, we can identify patterns and trends that may be useful for making decisions and taking action.*\n",
    "\n",
    "*Hint: look for a method that gives you the percentile or quantile 0.75 and 0.25 for a Pandas Series.*"
   ]
  },
  {
   "cell_type": "markdown",
   "id": "2d234634-50bd-41e0-88f7-d5ba684455d1",
   "metadata": {},
   "source": [
    "*Hint 2: check `Boolean selection according to the values of a single column` in https://towardsdatascience.com/filtering-data-frames-in-pandas-b570b1f834b9*"
   ]
  },
  {
   "cell_type": "code",
   "execution_count": null,
   "id": "b731bca6-a760-4860-a27b-a33efa712ce0",
   "metadata": {},
   "outputs": [],
   "source": [
    "# Your code here"
   ]
  }
 ],
 "metadata": {
  "kernelspec": {
   "display_name": "Python 3 (ipykernel)",
   "language": "python",
   "name": "python3"
  },
  "language_info": {
   "codemirror_mode": {
    "name": "ipython",
    "version": 3
   },
   "file_extension": ".py",
   "mimetype": "text/x-python",
   "name": "python",
   "nbconvert_exporter": "python",
   "pygments_lexer": "ipython3",
   "version": "3.11.7"
  }
 },
 "nbformat": 4,
 "nbformat_minor": 5
}
